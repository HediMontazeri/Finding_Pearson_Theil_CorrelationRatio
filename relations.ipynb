{
 "cells": [
  {
   "cell_type": "markdown",
   "metadata": {},
   "source": [
    "Some requirements:\n",
    "You need to change the type of columns of the data frame to float64 for numerical variables and object for categorical variables\n",
    "This code calculates three different relations between variables:\n",
    "* Theils for two categorical variables\n",
    "* Correlation ratio for a categorical and a numeric\n",
    "* Pearson for two numeric variables\n",
    "\n",
    "The scale of the first two ones are [0,1] but pearson is [-1,1]. Pay attention that the code changes the scales of all to [-1,1]. However, negative result of Theils and correlation matrix doen't interpret the same way as pearson does. \n"
   ]
  },
  {
   "cell_type": "code",
   "execution_count": null,
   "metadata": {},
   "outputs": [],
   "source": [
    "#importing libraries\n",
    "import numpy as np\n",
    "import pandas as pd\n",
    "import seaborn as sb\n",
    "import matplotlib.pyplot as plt\n",
    "import math\n",
    "import warnings\n",
    "warnings.filterwarnings(\"ignore\", category=FutureWarning)\n",
    "from collections import Counter\n",
    "import scipy.stats as ss"
   ]
  },
  {
   "cell_type": "code",
   "execution_count": null,
   "metadata": {},
   "outputs": [],
   "source": [
    "def conditional_entropy(x,y):\n",
    "    # entropy of x given y\n",
    "    y_counter = Counter(y)\n",
    "    xy_counter = Counter(list(zip(x,y)))\n",
    "    total_occurrences = sum(y_counter.values())\n",
    "    entropy = 0\n",
    "    for xy in xy_counter.keys():\n",
    "        p_xy = xy_counter[xy] / total_occurrences\n",
    "        p_y = y_counter[xy[1]] / total_occurrences\n",
    "        entropy += p_xy * math.log(p_y/p_xy)\n",
    "    return entropy\n"
   ]
  },
  {
   "cell_type": "code",
   "execution_count": null,
   "metadata": {},
   "outputs": [],
   "source": [
    "# one category and one numeric. the order is important\n",
    "def correlation_ratio(categories, measurements):\n",
    "    fcat, _ = pd.factorize(categories)\n",
    "    cat_num = np.max(fcat)+1\n",
    "    y_avg_array = np.zeros(cat_num)\n",
    "    n_array = np.zeros(cat_num)\n",
    "    for i in range(0,cat_num):\n",
    "        cat_measures = measurements[np.argwhere(fcat == i).flatten()]\n",
    "        n_array[i] = len(cat_measures)\n",
    "        y_avg_array[i] = np.average(cat_measures)\n",
    "    y_total_avg = np.sum(np.multiply(y_avg_array,n_array))/np.sum(n_array)\n",
    "    numerator = np.sum(np.multiply(n_array,np.power(np.subtract(y_avg_array,y_total_avg),2)))\n",
    "    denominator = np.sum(np.power(np.subtract(measurements,y_total_avg),2))\n",
    "    if numerator == 0:\n",
    "        eta = 0.0\n",
    "    else:\n",
    "        eta = numerator/denominator\n",
    "    return eta"
   ]
  },
  {
   "cell_type": "code",
   "execution_count": null,
   "metadata": {},
   "outputs": [],
   "source": [
    "#two categorical cariables. The order is important\n",
    "def theils_u(x, y):\n",
    "    s_xy = conditional_entropy(x,y)\n",
    "    x_counter = Counter(x)\n",
    "    total_occurrences = sum(x_counter.values())\n",
    "    p_x = list(map(lambda n: n/total_occurrences, x_counter.values()))\n",
    "    s_x = ss.entropy(p_x)\n",
    "    if s_x == 0:\n",
    "        return 1\n",
    "    else:\n",
    "        return (s_x - s_xy) / s_x"
   ]
  },
  {
   "cell_type": "code",
   "execution_count": null,
   "metadata": {},
   "outputs": [],
   "source": [
    "relations = pd.DataFrame()\n",
    "columns = trainData.columns[1:len(trainData.columns)]#columns labels\n",
    "rows = trainData.columns[1:len(trainData.columns)] # rows\n",
    "          \n",
    "for j in range(0,len(columns)):\n",
    "    for i in range(0,len(rows)):\n",
    "        if (trainData[columns[j]].dtypes == 'float64'  and trainData[rows[i]].dtypes == 'float64'):\n",
    "            u = trainData[columns[j]].corr( trainData[rows[i]])\n",
    "            u = u*1\n",
    "            relations.loc[rows[i],columns[j]] = u\n",
    "        elif  (trainData[rows[i]].dtypes == 'O' and trainData[columns[j]].dtypes == 'float64'):\n",
    "            u = correlation_ratio(trainData[rows[i]], trainData[columns[j]])\n",
    "            u = u*1\n",
    "            u=2*u-1\n",
    "            relations.loc[rows[i],columns[j]] = u\n",
    "        elif (trainData[columns[j]].dtypes == 'O' and trainData[rows[i]].dtypes == 'float64' ):\n",
    "            u = correlation_ratio(trainData[columns[j]], trainData[rows[i]])\n",
    "            u = u*1\n",
    "            u=2*u-1\n",
    "            relations.loc[rows[i],columns[j]] = u\n",
    "        elif (trainData[columns[j]].dtypes == 'O' and trainData[rows[i]].dtypes == 'O'):\n",
    "            u = theils_u(trainData[columns[j]], trainData[rows[i]])\n",
    "            u = u*1\n",
    "            u=2*u-1\n",
    "            relations.loc[rows[i],columns[j]] = u\n",
    "relations.fillna(value=np.nan,inplace=True)"
   ]
  },
  {
   "cell_type": "markdown",
   "metadata": {},
   "source": [
    "Plotting the heatmap of all relations "
   ]
  },
  {
   "cell_type": "code",
   "execution_count": null,
   "metadata": {},
   "outputs": [],
   "source": [
    "plt.figure(figsize=(10,10))\n",
    "sb.heatmap(CorrRatio,annot=True,fmt='.2f')\n",
    "plt.show()"
   ]
  }
 ],
 "metadata": {
  "kernelspec": {
   "display_name": "Python 3",
   "language": "python",
   "name": "python3"
  },
  "language_info": {
   "codemirror_mode": {
    "name": "ipython",
    "version": 3
   },
   "file_extension": ".py",
   "mimetype": "text/x-python",
   "name": "python",
   "nbconvert_exporter": "python",
   "pygments_lexer": "ipython3",
   "version": "3.6.6"
  }
 },
 "nbformat": 4,
 "nbformat_minor": 2
}
